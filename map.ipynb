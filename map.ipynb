{
 "cells": [
  {
   "cell_type": "code",
   "execution_count": 2,
   "id": "2a6b066f-8245-43f6-8e68-f607358997d5",
   "metadata": {},
   "outputs": [],
   "source": [
    "import matplotlib.pyplot as plt\n",
    "import math\n",
    "import numpy as np"
   ]
  },
  {
   "cell_type": "code",
   "execution_count": 3,
   "id": "33975489-cdee-4180-8107-4285615f6b4b",
   "metadata": {},
   "outputs": [],
   "source": [
    "landmarks = [(.2,(1,2)), (.3,(4,4))]\n",
    "arlo = (.1,(0,0))"
   ]
  },
  {
   "cell_type": "code",
   "execution_count": 30,
   "id": "bdd7e3c6-6948-4290-83c4-c6348092e55c",
   "metadata": {},
   "outputs": [
    {
     "name": "stdout",
     "output_type": "stream",
     "text": [
      "CPU times: user 58.7 ms, sys: 0 ns, total: 58.7 ms\n",
      "Wall time: 57.7 ms\n"
     ]
    },
    {
     "data": {
      "text/plain": [
       "<matplotlib.image.AxesImage at 0x7f150eb81c40>"
      ]
     },
     "execution_count": 30,
     "metadata": {},
     "output_type": "execute_result"
    },
    {
     "data": {
      "image/png": "[encoded data removed]",
      "text/plain": [
       "<Figure size 640x480 with 1 Axes>"
      ]
     },
     "metadata": {},
     "output_type": "display_data"
    }
   ],
   "source": [
    "%%time\n",
    "\n",
    "spheres = [arlo, *landmarks]\n",
    "spheres = [[0.14, [-0.39139613, 3.64572008]], [0.14, [0.35163773, 1.71677392]]]\n",
    "\n",
    "\n",
    "n = 100\n",
    "Mx = np.linspace(2.5, -2.5, n)\n",
    "Mz = np.linspace(0, 5, n)\n",
    "X, Z = np.meshgrid(Mx, Mz)\n",
    "\n",
    "def inSphere(a, r, c):\n",
    "    (ax, ay) = a\n",
    "    (cx, cy) = c\n",
    "    return r > math.sqrt((ax-cx)**2 + (ay-cy)**2)\n",
    "\n",
    "M = np.array([sum([1 if inSphere(a, *s) else 0 for s in spheres])\n",
    "              for a in zip(X.flat, Z.flat)]).reshape(n,n)\n",
    "plt.imshow(M, extent=[-2.5,2.5,0,5])"
   ]
  },
  {
   "cell_type": "code",
   "execution_count": 32,
   "id": "549a8f11-cfb4-433f-a004-66a6eda60695",
   "metadata": {},
   "outputs": [
    {
     "data": {
      "text/plain": [
       "True"
      ]
     },
     "execution_count": 32,
     "metadata": {},
     "output_type": "execute_result"
    }
   ],
   "source": [
    "def sphereCollide(a, b, margin=0.1):\n",
    "    ar, (ax, az) = a\n",
    "    br, (bx, bz) = b\n",
    "    return ar + br + margin < math.sqrt((ax-bx)**2 + (az-bz)**2)\n",
    "\n",
    "sphereCollide((.225, (0,0)), (.14, (10,10)))"
   ]
  }
 ],
 "metadata": {
  "kernelspec": {
   "display_name": "Python 3 (ipykernel)",
   "language": "python",
   "name": "python3"
  },
  "language_info": {
   "codemirror_mode": {
    "name": "ipython",
    "version": 3
   },
   "file_extension": ".py",
   "mimetype": "text/x-python",
   "name": "python",
   "nbconvert_exporter": "python",
   "pygments_lexer": "ipython3",
   "version": "3.12.4"
  }
 },
 "nbformat": 4,
 "nbformat_minor": 5
}
