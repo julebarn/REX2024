{
 "cells": [
  {
   "cell_type": "code",
   "execution_count": 5,
   "id": "2a6b066f-8245-43f6-8e68-f607358997d5",
   "metadata": {},
   "outputs": [],
   "source": [
    "import matplotlib.pyplot as plt\n",
    "import math\n",
    "import numpy as np"
   ]
  },
  {
   "cell_type": "code",
   "execution_count": 6,
   "id": "33975489-cdee-4180-8107-4285615f6b4b",
   "metadata": {},
   "outputs": [],
   "source": [
    "landmarks = [(.2,(1,2)), (.3,(4,4))]\n",
    "arlo = (.1,(0,0))"
   ]
  },
  {
   "cell_type": "code",
   "execution_count": 7,
   "id": "bdd7e3c6-6948-4290-83c4-c6348092e55c",
   "metadata": {},
   "outputs": [
    {
     "name": "stdout",
     "output_type": "stream",
     "text": [
      "CPU times: user 44.4 ms, sys: 3.03 ms, total: 47.5 ms\n",
      "Wall time: 46.8 ms\n"
     ]
    },
    {
     "data": {
      "text/plain": [
       "<matplotlib.image.AxesImage at 0x7f846bee7da0>"
      ]
     },
     "execution_count": 7,
     "metadata": {},
     "output_type": "execute_result"
    },
    {
     "data": {
      "image/png": "[encoded data removed]",
      "text/plain": [
       "<Figure size 640x480 with 1 Axes>"
      ]
     },
     "metadata": {},
     "output_type": "display_data"
    }
   ],
   "source": [
    "%%time\n",
    "\n",
    "spheres = [arlo, *landmarks]\n",
    "spheres = [[0.14, [-0.39139613, 3.64572008]], [0.14, [0.35163773, 1.71677392]]]\n",
    "\n",
    "\n",
    "n = 100\n",
    "Mx = np.linspace(2.5, -2.5, n)\n",
    "Mz = np.linspace(0, 5, n)\n",
    "X, Z = np.meshgrid(Mx, Mz)\n",
    "\n",
    "def inSphere(a, r, c):\n",
    "    (ax, ay) = a\n",
    "    (cx, cy) = c\n",
    "    return r > math.sqrt((ax-cx)**2 + (ay-cy)**2)\n",
    "\n",
    "M = np.array([sum([1 if inSphere(a, *s) else 0 for s in spheres])\n",
    "              for a in zip(X.flat, Z.flat)]).reshape(n,n)\n",
    "plt.imshow(M, extent=[-2.5,2.5,0,5])"
   ]
  },
  {
   "cell_type": "code",
   "execution_count": 8,
   "id": "549a8f11-cfb4-433f-a004-66a6eda60695",
   "metadata": {},
   "outputs": [
    {
     "data": {
      "text/plain": [
       "True"
      ]
     },
     "execution_count": 8,
     "metadata": {},
     "output_type": "execute_result"
    }
   ],
   "source": [
    "def sphereCollide(a, b, margin=0.1):\n",
    "    ar, (ax, az) = a\n",
    "    br, (bx, bz) = b\n",
    "    return ar + br + margin < math.sqrt((ax-bx)**2 + (az-bz)**2)\n",
    "\n",
    "sphereCollide((.225, (0,0)), (.14, (10,10)))"
   ]
  },
  {
   "cell_type": "code",
   "execution_count": 60,
   "id": "9baf42c8-2942-441f-a34d-6c7cd596a1ae",
   "metadata": {},
   "outputs": [
    {
     "name": "stdout",
     "output_type": "stream",
     "text": [
      "(0, 0) _ 0\n",
      "(-1, 1) 1.4142135623730951 -45.0\n",
      "(-1, 2) 1.0 45.0\n",
      "(1, 3) 2.23606797749979 18.43494882292201\n",
      "(1, 5) 2.0 -18.43494882292201\n"
     ]
    }
   ],
   "source": [
    "pos = (0,0)\n",
    "angle = 0\n",
    "print(pos, \"_\", angle)\n",
    "for p in [(-1,1),(-1,2),(1,3),(1,5)]:\n",
    "    d = math.dist(pos, p)\n",
    "    angle = math.degrees(math.atan((pos[0]-p[0])/(pos[1]-p[1]))) - angle\n",
    "    pos = p\n",
    "    print(p, d, angle)"
   ]
  },
  {
   "cell_type": "code",
   "execution_count": 68,
   "id": "20dbd82a-aedf-46c9-859d-d2c9edd2703c",
   "metadata": {},
   "outputs": [
    {
     "name": "stdout",
     "output_type": "stream",
     "text": [
      "((0, 0), 0, 0)\n",
      "((-1, 1), -45.0, 1.4142135623730951)\n",
      "((-1, 2), 45.0, 1.0)\n",
      "((1, 3), 18.43494882292201, 2.23606797749979)\n",
      "((1, 5), -18.43494882292201, 2.0)\n"
     ]
    }
   ],
   "source": [
    "from itertools import accumulate\n",
    "\n",
    "def movement(prev_state, p):\n",
    "    prev, angle, d = prev_state\n",
    "    return (p,\n",
    "            math.degrees(math.atan((prev[0]-p[0])/(prev[1]-p[1]))) - angle,\n",
    "            math.dist(prev, p))\n",
    "\n",
    "points = [(-1,1),(-1,2),(1,3),(1,5)]\n",
    "for _, turn, dist in accumulate(points, movement, initial=((0,0),0,0)):\n",
    "    arlo.go_diff(60,60,) ..."
   ]
  },
  {
   "cell_type": "code",
   "execution_count": 5,
   "id": "fd8f5836",
   "metadata": {},
   "outputs": [
    {
     "data": {
      "image/png": "[encoded data removed]",
      "text/plain": [
       "<Figure size 640x480 with 1 Axes>"
      ]
     },
     "metadata": {},
     "output_type": "display_data"
    },
    {
     "name": "stdout",
     "output_type": "stream",
     "text": [
      "Goal reached in 51 iterations.\n",
      "[[0, 0], [0.3661899833291318, 0.9305401098874837], [0.39991339829611927, 1.929971313764451], [1.2810622319461156, 2.402810327549535], [1.5153780213563304, 3.3749708651322265], [2.5141303434010656, 3.424908818737166], [3.326736494867541, 4.007722032896594], [2.982688898658296, 4.9466742422995225], [3.1559508907079477, 5.931550012186764], [3.9769749356982187, 6.502443625347581], [4.434743104766931, 7.391515221670104], [5.418874240342027, 7.214072532354167], [6.15218864287662, 7.893962219755979], [7.143138357648918, 7.759728607003054], [7.8243637569479665, 8.491802343282298], [8.584387329886578, 9.141697849173536], [9, 9]]\n",
      "\n"
     ]
    }
   ],
   "source": [
    "from RRT import *\n",
    "\n",
    "start = (0, 0)\n",
    "goal = (9, 9)\n",
    "map_size = (10, 10)\n",
    "obstacles = [(1, 2, 0.2), (4, 4, 0.3)]\n",
    "rrt = RRT(start, goal, map_size, obstacles, step_size=1, max_iter=1000)\n",
    "\n",
    "# Plot the initial state\n",
    "rrt.plot_initial()\n",
    "\n",
    "# Run the RRT algorithm\n",
    "path = rrt.find_path()\n",
    "print(path)\n",
    "# Plot the final path if found\n",
    "rrt.plot_final(path)\n",
    "\n",
    "print()"
   ]
  }
 ],
 "metadata": {
  "kernelspec": {
   "display_name": "Python 3 (ipykernel)",
   "language": "python",
   "name": "python3"
  },
  "language_info": {
   "codemirror_mode": {
    "name": "ipython",
    "version": 3
   },
   "file_extension": ".py",
   "mimetype": "text/x-python",
   "name": "python",
   "nbconvert_exporter": "python",
   "pygments_lexer": "ipython3",
   "version": "3.9.6"
  }
 },
 "nbformat": 4,
 "nbformat_minor": 5
}
