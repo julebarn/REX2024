{
 "cells": [
  {
   "cell_type": "code",
   "execution_count": 1,
   "id": "07a8cdf2",
   "metadata": {},
   "outputs": [],
   "source": [
    "import numpy as np\n",
    "import matplotlib.pyplot as plt"
   ]
  },
  {
   "cell_type": "code",
   "execution_count": 2,
   "id": "333d5cf8",
   "metadata": {},
   "outputs": [
    {
     "data": {
      "image/png": "[encoded data removed]",
      "text/plain": [
       "<Figure size 640x480 with 1 Axes>"
      ]
     },
     "metadata": {},
     "output_type": "display_data"
    }
   ],
   "source": [
    "reality = -(np.pad(np.ones((18,18)),1)  - 1)\n",
    "for ((wx1,wy1),(wx2,wy2)) in [((5,0),(5,15)),((10,5),(10,20))]:\n",
    "    reality[wx1:wx2+1,wy1:wy2+1] = 1\n",
    "    \n",
    "plt.imshow(reality)\n",
    "plt.show()"
   ]
  },
  {
   "cell_type": "code",
   "execution_count": 3,
   "id": "9439f93e",
   "metadata": {},
   "outputs": [],
   "source": [
    "robot_real = {\n",
    "    \"position\": (2,3),\n",
    "    \"rotation\": 0, #degrees\n",
    "    \"sonar_p\": (.97, .1),\n",
    "    \"pos_p\": (.99, .2),\n",
    "    \"rot_p\": (1.04, .2)\n",
    "}\n",
    "\n",
    "robot_belief = {\n",
    "    \"position\": (2,3),\n",
    "    \"rotation\": 0, #degrees\n",
    "    \"sonar_p\": (.99, .09),\n",
    "    \"pos_p\": (1.02, .22),\n",
    "    \"rot_p\": (1.0, .21)\n",
    "}"
   ]
  },
  {
   "cell_type": "code",
   "execution_count": 4,
   "id": "6488967b",
   "metadata": {},
   "outputs": [
    {
     "data": {
      "text/plain": [
       "3"
      ]
     },
     "execution_count": 4,
     "metadata": {},
     "output_type": "execute_result"
    }
   ],
   "source": [
    "import math\n",
    "\n",
    "def sonar(real, step=.3):\n",
    "    position = real[\"position\"]\n",
    "    r = real[\"rotation\"]\n",
    "    orientation = np.array([math.cos(r), math.sin(r)])\n",
    "\n",
    "    dist = 0\n",
    "    while(reality[int(position[0]),int(position[1])] != 1):\n",
    "        dist += step\n",
    "        position += orientation * step     \n",
    "    \n",
    "    return int(np.random.normal(*real[\"sonar_p\"]) * dist)\n",
    "\n",
    "sonar(robot_real)"
   ]
  },
  {
   "cell_type": "code",
   "execution_count": 5,
   "id": "28e609d2",
   "metadata": {},
   "outputs": [
    {
     "data": {
      "text/plain": [
       "<function matplotlib.pyplot.show(close=None, block=None)>"
      ]
     },
     "execution_count": 5,
     "metadata": {},
     "output_type": "execute_result"
    },
    {
     "data": {
      "image/png": "[encoded data removed]",
      "text/plain": [
       "<Figure size 640x480 with 1 Axes>"
      ]
     },
     "metadata": {},
     "output_type": "display_data"
    }
   ],
   "source": [
    "# IDEA\n",
    "# draw curve\n",
    "#\n",
    "\n",
    "import math\n",
    "\n",
    "robot = {\n",
    "    \"speed\": 0,\n",
    "    \"position\": np.array([0,0]),\n",
    "    \"angle\": 10\n",
    "}\n",
    "\n",
    "def angle_to_vector(a):\n",
    "    return np.array([math.cos(a),math.sin(a)])\n",
    "\n",
    "def move(robot):\n",
    "    return {\n",
    "        \"speed\": robot[\"speed\"],\n",
    "        \"position\": robot[\"position\"] + angle_to_vector(robot[\"angle\"]),\n",
    "        \"angle\": robot[\"angle\"]\n",
    "    }\n",
    "\n",
    "def curve(robot, bezier, step=0):\n",
    "    # the bezier curve is 2 x (+x,+y)\n",
    "    start = np.array([0,0])\n",
    "\n",
    "res = []\n",
    "for i in range(20):\n",
    "    robot = move(robot)\n",
    "    res.append(robot[\"position\"])\n",
    "\n",
    "plt.scatter(*np.array(res).T)\n",
    "plt.show"
   ]
  },
  {
   "cell_type": "code",
   "execution_count": 77,
   "id": "053f311e",
   "metadata": {},
   "outputs": [],
   "source": [
    "import sched, time\n",
    "\n",
    "class FakeRobot():\n",
    "    def __init__(self, sched=True):\n",
    "        self.speed = np.array([0.,0.])\n",
    "        self.pos   = np.array([0.,0.])\n",
    "        self.width = 0.5 # meters\n",
    "        self.rotation = 0 # rads\n",
    "\n",
    "        self.pos_history   = [np.array([0.,0.])]\n",
    "        self.speed_history = [np.array([0.,0.])]\n",
    "\n",
    "        if sched:\n",
    "            scheduler = sched.scheduler()\n",
    "            scheduler.enter(.1, 1, self._step, (scheduler,))\n",
    "            scheduler.run()\n",
    "\n",
    "    def go_diff(self, l, r):\n",
    "        self.speed = np.array([l,r])\n",
    "        self.speed_history += self.speed\n",
    "\n",
    "    def stop(self):\n",
    "        self.speed = np.array([0.,0.])\n",
    "        self.speed_history += self.speed\n",
    "\n",
    "    def _step(self, step_size=.1):\n",
    "        scheduler.enter(.1, 1, self._step, (scheduler,))\n",
    "        l, r  = self.speed\n",
    "        L     = self.width\n",
    "        theta = self.rotation\n",
    "\n",
    "        # Turning radius in meters\n",
    "        R = L * ((r+l)/(r-l))\n",
    "        # Turning speed in radians\n",
    "        w = (r-l) / L\n",
    "\n",
    "        self.pos += np.array([R*math.sin(w*step_size+theta), R*math.cos(w*step_size+theta)])\n",
    "        self.rotation += w*step_size\n",
    "        self.pos_history.append(self.pos.copy())"
   ]
  },
  {
   "cell_type": "code",
   "execution_count": 66,
   "id": "0d100f79-c9f4-461c-b31c-f60d693d1520",
   "metadata": {},
   "outputs": [],
   "source": [
    "def bezier_cubic(P):\n",
    "    def B(t):\n",
    "        coef = np.array([  -t**3 + 3*t**2 - 3*t + 1,\n",
    "                          3*t**3 - 6*t**2 + 3*t,\n",
    "                         -3*t**3 + 3*t**2,\n",
    "                            t**3])\n",
    "        return (P.T * coef).sum(1)\n",
    "\n",
    "    return np.array([B(t) for t in np.linspace(0,1,20)])"
   ]
  },
  {
   "cell_type": "code",
   "execution_count": 67,
   "id": "52987fac-2c58-4db4-a8ef-f0af3845bcbe",
   "metadata": {},
   "outputs": [],
   "source": [
    "def bezier_turns(P):\n",
    "    def Bp(t):\n",
    "        coef = np.array([-3*t**2 +  6*t - 3,\n",
    "                          9*t**2 - 12*t + 3,\n",
    "                         -9*t**2 +  6*t,\n",
    "                          3*t**2])\n",
    "        return (P.T * coef).sum(1)\n",
    "\n",
    "    def Bpp(t):\n",
    "        coef = np.array([ -6*t +  6,\n",
    "                          18*t - 12,\n",
    "                         -18*t +  6,\n",
    "                           6*t])\n",
    "        return (P.T * coef).sum(1)\n",
    "\n",
    "    def L2(x):\n",
    "        a, b = x\n",
    "        return math.sqrt(a**2+b**2)\n",
    "\n",
    "    def r(Bp, Bpp):\n",
    "        [a,b],[c,d] = Bp, Bpp\n",
    "        det = a*d - b*c\n",
    "        if det == 0:\n",
    "            return None\n",
    "        else:\n",
    "            return (L2([a,b])**3)/det\n",
    "\n",
    "    def v(r, v, L=.5):\n",
    "        return np.array([v*(1-L/(2*r)),v*(1+L/(2*r))])\n",
    "\n",
    "    return np.array([v(r(Bp(t), Bpp(t)), L2(Bp(t))) for t in np.linspace(0,1,10)])   "
   ]
  },
  {
   "cell_type": "code",
   "execution_count": 76,
   "id": "dc29559d-19e6-4226-9520-375b8ee42afe",
   "metadata": {},
   "outputs": [
    {
     "data": {
      "image/png": "[encoded data removed]",
      "text/plain": [
       "<Figure size 300x300 with 1 Axes>"
      ]
     },
     "metadata": {},
     "output_type": "display_data"
    }
   ],
   "source": [
    "robot = FakeRobot()\n",
    "curve = np.array([[0,0],[0,3],[3,0],[0,0]])\n",
    "\n",
    "for vr, vl in bezier_turns(curve):\n",
    "    robot.go_diff(vl*.87,vr*.87)\n",
    "    robot._step()\n",
    "robot.stop()\n",
    "\n",
    "fig, ax = plt.subplots(figsize=(3,3))\n",
    "ax.plot(*np.array(robot.pos_history).T)\n",
    "ax.scatter(*bezier_cubic(curve).T)\n",
    "#ax.set_xlim(0,6)\n",
    "#ax.set_ylim(-3,3)\n",
    "plt.show()"
   ]
  },
  {
   "cell_type": "code",
   "execution_count": 5,
   "id": "57e9f71f-43c7-403a-870d-586734dccbad",
   "metadata": {},
   "outputs": [
    {
     "data": {
      "image/png": "[encoded data removed]",
      "text/plain": [
       "<Figure size 640x480 with 1 Axes>"
      ]
     },
     "metadata": {},
     "output_type": "display_data"
    }
   ],
   "source": [
    "a = np.array([0,0])\n",
    "b = np.array([1,0])\n",
    "c = np.array([1,1])\n",
    "d = np.array([0,1])\n",
    "\n",
    "# Use a quarter sine for the ease-in\n",
    "\n",
    "sine     = [math.sin(i) for i in np.linspace(0,math.pi/2,200)]\n",
    "int_sine = [-math.cos(i)+1 for i in np.linspace(0,math.pi/2,20)]\n",
    "\n",
    "#res = np.array([b + ((1-t)**2)*(a-b) + (t**2)*(c-b) for t in int_sine])\n",
    "#plt.scatter(*res.T)\n",
    "\n",
    "def lerp(t, a, b):\n",
    "    # Interpolate line\n",
    "    return (1-t)*a + t*b\n",
    "\n",
    "def bezier_quad(t,a,b,c):\n",
    "    # Calculate point\n",
    "    p0 = lerp(t,a,b)\n",
    "    p1 = lerp(t,b,c)\n",
    "    p2 = lerp(t,p0,p1)\n",
    "    \n",
    "    return p2, d\n",
    "\n",
    "def bezier(t, p):\n",
    "    # de_casteljau\n",
    "    res = p.copy()\n",
    "    for a in range(len(res)):\n",
    "        for i in reversed(range(a)):\n",
    "            res[i] = lerp(t, res[i], res[i+1])\n",
    "    \n",
    "    return res[0]\n",
    "\n",
    "def ease_in(t):\n",
    "    # integral of sin\n",
    "    return 1-math.cos(t*.5*math.pi)\n",
    "    \n",
    "accel = [ease_in(t) for t in np.linspace(0,1,20)]\n",
    "curve = np.array([bezier(t,[a,b,c,d,a]) for t in accel])\n",
    "plt.scatter(*curve.T)\n",
    "\n",
    "res = [[0,0]]\n",
    "pos, speed = np.array([0.,0.]), .3\n",
    "for a,b in zip(curve[:-1], curve[1:]):\n",
    "    # zip 2 bezier curves together, numeric differention \n",
    "    pos += (b-a) # use this to calculate angle + speed\n",
    "    res.append(pos.copy())\n",
    "\n",
    "plt.scatter(*np.array(res).T)\n",
    "plt.show()"
   ]
  },
  {
   "cell_type": "code",
   "execution_count": null,
   "id": "aea6451b",
   "metadata": {},
   "outputs": [],
   "source": []
  }
 ],
 "metadata": {
  "kernelspec": {
   "display_name": "Python 3 (ipykernel)",
   "language": "python",
   "name": "python3"
  },
  "language_info": {
   "codemirror_mode": {
    "name": "ipython",
    "version": 3
   },
   "file_extension": ".py",
   "mimetype": "text/x-python",
   "name": "python",
   "nbconvert_exporter": "python",
   "pygments_lexer": "ipython3",
   "version": "3.12.4"
  }
 },
 "nbformat": 4,
 "nbformat_minor": 5
}
