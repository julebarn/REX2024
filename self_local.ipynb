{
 "cells": [
  {
   "cell_type": "code",
   "execution_count": 2,
   "id": "145d52f8-08d9-4b5c-b7c0-5d126a9ddd9e",
   "metadata": {},
   "outputs": [],
   "source": [
    "import numpy as np\n",
    "import matplotlib.pyplot as plt\n",
    "import math\n",
    "from scipy.stats import norm"
   ]
  },
  {
   "cell_type": "code",
   "execution_count": 3,
   "id": "ed0dba17-14de-44c0-aa95-51544d2ee1c9",
   "metadata": {},
   "outputs": [],
   "source": [
    "from itertools import accumulate\n",
    "\n",
    "def movement(prev_state, p):\n",
    "    prev, radians, d = prev_state\n",
    "    return (p,\n",
    "            math.atan((prev[0]-p[0])/(prev[1]-p[1])) - radians,\n",
    "            math.dist(prev, p))"
   ]
  },
  {
   "cell_type": "code",
   "execution_count": 24,
   "id": "699b5d9a-c893-4088-8381-6f2b6d03dbd9",
   "metadata": {},
   "outputs": [
    {
     "data": {
      "image/png": "[encoded data removed]",
      "text/plain": [
       "<Figure size 640x480 with 1 Axes>"
      ]
     },
     "metadata": {},
     "output_type": "display_data"
    }
   ],
   "source": [
    "m = np.zeros((15,15))\n",
    "m[ 0,:] = 1\n",
    "m[-1,:] = 1\n",
    "m[:, 0] = 1\n",
    "m[:,-1] = 1\n",
    "\n",
    "n = 1000\n",
    "r_samples = np.array([(1+x*13,1+y*13,t*2*math.pi)for x,y,t in np.random.rand(n,3)])\n",
    "jitter = lambda magnitude: np.array([(x-0.5,y-0.5,(t-0.5)*4*math.pi)for x,y,t in np.random.rand(n,3)]) * magnitude\n",
    "# x,y,theta\n",
    "\n",
    "plt.imshow(m, origin=\"lower\")\n",
    "points = np.array([(5,5),(5,7),(5,8),(7,9),(7,11)])\n",
    "moves = [(turn, dist) for _, turn, dist in accumulate(points[1:], movement, initial=(points[0],0,0))][1:]\n",
    "plt.scatter(*points.T[:2])\n",
    "plt.scatter(7,12)\n",
    "\n",
    "def plt_samples(r_samples):\n",
    "    plt.quiver(*r_samples.T[:2], np.cos(r_samples.T[2]), np.sin(r_samples.T[2]))\n",
    "\n",
    "def move_sample(sample, turn, dist):\n",
    "    x, y, t = sample\n",
    "    return (x+np.cos(t-turn)*dist, y+np.sin(t-turn)*dist, t-turn)\n",
    "\n",
    "def disqualify_sample(sample, m):\n",
    "    x, y, t = sample\n",
    "    return (1 > x) or (x > 14) or (1 > y) or (y > 14)\n",
    "\n",
    "def sensor(sample, landmark):\n",
    "    # The robot senses a landmark;\n",
    "    # with position (lx,ly),\n",
    "    # ld distance away\n",
    "    lx, ly, ld = landmark\n",
    "    sx, sy, _ = move_sample(sample, 0, ld)\n",
    "    return norm.pdf(math.dist((lx,ly),(sx,sy)), scale=.2)\n",
    "\n",
    "for turn, dist in moves:\n",
    "    r_samples = np.array([move_sample(s, turn, dist) for s in r_samples])\n",
    "    #r_samples = np.array([s for s in r_samples if not disqualify_sample(s, m)])\n",
    "    r_samples = r_samples[np.random.choice(len(r_samples),n)] + jitter(0.2)\n",
    "\n",
    "r_weights = np.array([sensor(s, (7,12,1)) for s in r_samples])\n",
    "r_samples = r_samples[np.random.choice(len(r_samples), n, p=r_weights/r_weights.sum())]\n",
    "plt.scatter(*r_samples.mean(0)[:2])\n",
    "plt_samples(r_samples)"
   ]
  },
  {
   "cell_type": "code",
   "execution_count": null,
   "id": "9ee2eae6-3288-4b6f-9821-a171e1fbc5bf",
   "metadata": {},
   "outputs": [],
   "source": []
  }
 ],
 "metadata": {
  "kernelspec": {
   "display_name": "Python 3 (ipykernel)",
   "language": "python",
   "name": "python3"
  },
  "language_info": {
   "codemirror_mode": {
    "name": "ipython",
    "version": 3
   },
   "file_extension": ".py",
   "mimetype": "text/x-python",
   "name": "python",
   "nbconvert_exporter": "python",
   "pygments_lexer": "ipython3",
   "version": "3.12.6"
  }
 },
 "nbformat": 4,
 "nbformat_minor": 5
}
